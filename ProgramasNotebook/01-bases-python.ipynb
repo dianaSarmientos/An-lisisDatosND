{
 "cells": [
  {
   "cell_type": "markdown",
   "metadata": {},
   "source": [
    "# Caracteres de escape "
   ]
  },
  {
   "cell_type": "code",
   "execution_count": 1,
   "metadata": {},
   "outputs": [
    {
     "name": "stdout",
     "output_type": "stream",
     "text": [
      "Diana Mayrami\n",
      " Sarmientos Flores\n",
      "Diana Mayrami Sarmientos Flores\n"
     ]
    }
   ],
   "source": [
    "print('Diana Mayrami\\n Sarmientos Flores')\n",
    "print('Diana Mayrami Sarmientos Flores')"
   ]
  },
  {
   "cell_type": "code",
   "execution_count": 3,
   "metadata": {},
   "outputs": [
    {
     "name": "stdout",
     "output_type": "stream",
     "text": [
      "la witsi araña \\ arañota\n"
     ]
    }
   ],
   "source": [
    "print('la witsi araña \\\\ arañota')"
   ]
  },
  {
   "cell_type": "code",
   "execution_count": 4,
   "metadata": {},
   "outputs": [
    {
     "name": "stdout",
     "output_type": "stream",
     "text": [
      "El resultado es: 10\n"
     ]
    }
   ],
   "source": [
    "x = 10 \n",
    "print(\"El resultado es: \" + str(x))"
   ]
  },
  {
   "cell_type": "code",
   "execution_count": 6,
   "metadata": {},
   "outputs": [
    {
     "name": "stdout",
     "output_type": "stream",
     "text": [
      "El valor de x es: 22\n"
     ]
    }
   ],
   "source": [
    "x = 22\n",
    "print(f'El valor de x es: {x}')"
   ]
  },
  {
   "cell_type": "code",
   "execution_count": 13,
   "metadata": {},
   "outputs": [
    {
     "name": "stdout",
     "output_type": "stream",
     "text": [
      "La suma de estos es: 58\n",
      "La suma de 45.6 + 12.3 = 57.900000000000006\n",
      "La suma de 45.6 + 12.3 =  58\n"
     ]
    }
   ],
   "source": [
    "x = 45.6\n",
    "y = 12.3\n",
    "\n",
    "print('La suma de estos es: ' + str(round(x+y)))\n",
    "print('La suma de ' + str(x) + ' + ' + str(y) + ' = ' + str(x+y))\n",
    "\n",
    "#Utilizando el string literal\n",
    "print(f'La suma de {x} + {y} =  {round(x+y)}') \n"
   ]
  },
  {
   "cell_type": "markdown",
   "metadata": {},
   "source": [
    "# Usando multiples argumentos"
   ]
  },
  {
   "cell_type": "code",
   "execution_count": 15,
   "metadata": {},
   "outputs": [
    {
     "name": "stdout",
     "output_type": "stream",
     "text": [
      "La arañame mordio el dedo\n",
      "la araña me mordio mis 20 dedos\n",
      "ya tenemos hambre\n"
     ]
    }
   ],
   "source": [
    "print('La araña' + 'me mordio el dedo')\n",
    "x=20\n",
    "print('la araña', 'me mordio', 'mis', x , 'dedos')\n",
    "\n",
    "print('ya tenemos' , 'hambre')"
   ]
  },
  {
   "cell_type": "markdown",
   "metadata": {},
   "source": [
    "# Argumentos de palabra clave"
   ]
  },
  {
   "cell_type": "markdown",
   "metadata": {},
   "source": [
    "Python ofrece otro mecanismo para el paso de argumentos, que puede ser útil cuando deseas convencer a la función print() para que cambie un poco su comportamiento.\n",
    "\n",
    "No vamos a explicarlo en profundidad ahora. Planeamos hacerlo cuando hablemos de funciones. Por ahora, simplemente queremos mostrarte cómo funciona. Siéntete libre de usarlo en tus propios programas.\n",
    "\n",
    "El mecanismo se llama argumentos de palabras clave. El nombre proviene del hecho de que el significado de estos argumentos se toma no de su ubicación (posición) sino de la palabra especial (palabra clave) utilizada para identificarlos.\n",
    "\n",
    "La función print() tiene dos argumentos de palabra clave que puedes usar para tus propósitos. El primero se llama end."
   ]
  },
  {
   "cell_type": "code",
   "execution_count": 16,
   "metadata": {},
   "outputs": [
    {
     "name": "stdout",
     "output_type": "stream",
     "text": [
      "Hola seño\n",
      "\n",
      "Hola benito\n"
     ]
    }
   ],
   "source": [
    "print('Hola seño')\n",
    "print()\n",
    "print('Hola benito')"
   ]
  },
  {
   "cell_type": "code",
   "execution_count": 17,
   "metadata": {},
   "outputs": [
    {
     "name": "stdout",
     "output_type": "stream",
     "text": [
      "Hola como estas vaca grande\n",
      "Hola yo soy tu pitufo\n"
     ]
    }
   ],
   "source": [
    "print('Hola como estas vaca grande', end='\\n')\n",
    "print('Hola yo soy tu pitufo')"
   ]
  },
  {
   "cell_type": "code",
   "execution_count": 18,
   "metadata": {},
   "outputs": [
    {
     "name": "stdout",
     "output_type": "stream",
     "text": [
      "Hola soy tu miche Con limon y sal\n"
     ]
    }
   ],
   "source": [
    "print('Hola soy tu miche', end=\" \")\n",
    "print('Con limon y sal')"
   ]
  },
  {
   "cell_type": "markdown",
   "metadata": {},
   "source": [
    "Para usarlo, es necesario conocer algunas reglas:\n",
    "\n",
    "- Un argumento de palabra clave consta de tres elementos: una palabra clave se identifica el argumento (end aquí); un signo de igual (=); y un valor asignado a ese argumento;\n",
    "- cualquier argumento de palabra clave debe colocarse después del último argumento posicional (esto es muy importante)\n",
    "\n",
    "En nuestro ejemplo, hemos utilizado el argumento de palabra clave end, y lo hemos configurado como cadena que contiene un espacio\n",
    "\n",
    "Como puedes ver, el argumento de palabra clave end determina los caracteres que la función print() envía a la salida una vez que llega al final de sus argumentos posicionales.\n",
    "\n",
    "El comportamiento predeterminado refleja la situación en la que el argumento de palabra clave end se usa implícitamente de la siguiente manera: end=\"\\n\"."
   ]
  },
  {
   "cell_type": "code",
   "execution_count": 19,
   "metadata": {},
   "outputs": [
    {
     "name": "stdout",
     "output_type": "stream",
     "text": [
      "Hola mundo*estoy aqui\n",
      "Hola-como estas-America-campeon\n"
     ]
    }
   ],
   "source": [
    "print('Hola mundo', end='*')\n",
    "print('estoy aqui')"
   ]
  },
  {
   "cell_type": "code",
   "execution_count": 20,
   "metadata": {},
   "outputs": [
    {
     "name": "stdout",
     "output_type": "stream",
     "text": [
      "Hola-como estas-America-campeon\n"
     ]
    }
   ],
   "source": [
    "\n",
    "# Palabra clave sep\n",
    "print('Hola', 'como estas', 'America', 'campeon', sep='-', end='**' )\n",
    "print('soyla')\n",
    "print(\"Tengo hambre\")"
   ]
  },
  {
   "cell_type": "markdown",
   "metadata": {},
   "source": [
    "# LAB la funcion print() y sus argumento"
   ]
  },
  {
   "cell_type": "markdown",
   "metadata": {},
   "source": [
    "Modifica la primera línea de código en el editor, usando las palabras claves reservadas sep y end, para que se obtenga la salida esperada. Emplea dos funciones print() en el editor.\n",
    "\n",
    "No cambies nada en la segunda invocación del print()."
   ]
  },
  {
   "cell_type": "markdown",
   "metadata": {},
   "source": [
    "## Salida esperada"
   ]
  },
  {
   "cell_type": "code",
   "execution_count": 21,
   "metadata": {},
   "outputs": [
    {
     "name": "stdout",
     "output_type": "stream",
     "text": [
      "Programming***Essentials***in...Python\n"
     ]
    }
   ],
   "source": [
    "print(\"Programming\", \"Essentials\", \"in\", sep='***', end='...')\n",
    "print(\"Python\")"
   ]
  }
 ],
 "metadata": {
  "kernelspec": {
   "display_name": "Python 3",
   "language": "python",
   "name": "python3"
  },
  "language_info": {
   "name": "python",
   "version": "3.10.8"
  }
 },
 "nbformat": 4,
 "nbformat_minor": 2
}
