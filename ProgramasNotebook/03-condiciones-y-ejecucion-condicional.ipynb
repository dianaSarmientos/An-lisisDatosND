{
 "cells": [
  {
   "cell_type": "markdown",
   "metadata": {},
   "source": [
    "# Ejemplo 1"
   ]
  },
  {
   "cell_type": "code",
   "execution_count": 7,
   "metadata": {},
   "outputs": [
    {
     "name": "stdout",
     "output_type": "stream",
     "text": [
      "El numero mayor es: 10\n"
     ]
    }
   ],
   "source": [
    "# se leen dos numeros\n",
    "n1 = int(input(\"Ingrese el primer numero: \"))\n",
    "n2 = int(input(\"Ingrese el segundo numero: \"))\n",
    "\n",
    "\n",
    "#Elegir el numero mas grande\n",
    "if n1 > n2:\n",
    "    num_mayor = n1\n",
    "    print(f'El numero mayor es: {num_mayor}')\n",
    "else:\n",
    "    num_mayor = n2\n",
    "    print(f'El numero mayor es: {num_mayor}')"
   ]
  },
  {
   "cell_type": "markdown",
   "metadata": {},
   "source": [
    "## Ejemplo 2\n",
    "\n",
    " Encontrar el numero mas grande de tres numeros"
   ]
  },
  {
   "cell_type": "code",
   "execution_count": 12,
   "metadata": {},
   "outputs": [
    {
     "name": "stdout",
     "output_type": "stream",
     "text": [
      "El numero mayor es: 10\n"
     ]
    }
   ],
   "source": [
    "# Solicitar 3 numeros enteros\n",
    "numero1 = int(input(\"Ingrese el primer numero: \"))\n",
    "numero2 = int(input(\"Ingrese el segundo numero: \"))\n",
    "numero3 = int(input(\"Ingrese el tercer numero: \"))\n",
    "\n",
    "numero_mayor= numero1\n",
    "\n",
    "if numero2> numero_mayor:\n",
    "    numero_mayor = numero2\n",
    "elif numero3 > numero_mayor:\n",
    "    numero_mayor = numero3\n",
    "\n",
    "print(f'El numero mayor es: {num_mayor}')\n"
   ]
  },
  {
   "cell_type": "code",
   "execution_count": 10,
   "metadata": {},
   "outputs": [
    {
     "name": "stdout",
     "output_type": "stream",
     "text": [
      "El numero mayor es: 10\n"
     ]
    }
   ],
   "source": [
    "# Solicitar 3 numeros enteros\n",
    "numero1 = int(input(\"Ingrese el primer numero: \"))\n",
    "numero2 = int(input(\"Ingrese el segundo numero: \"))\n",
    "numero3 = int(input(\"Ingrese el tercer numero: \"))\n",
    "\n",
    "if numero1 > numero2 and numero1 > numero3:\n",
    "    numero_mayor = numero1\n",
    "elif numero2 > numero1 and numero2 > numero3:\n",
    "    numero_mayor = numero3\n",
    "else: \n",
    "    numero_mayor = numero3\n",
    "print(f'El numero mayor es: {numero_mayor}')"
   ]
  },
  {
   "cell_type": "code",
   "execution_count": 14,
   "metadata": {},
   "outputs": [
    {
     "name": "stdout",
     "output_type": "stream",
     "text": [
      "El numero mayor es: 9\n"
     ]
    }
   ],
   "source": [
    "# Solicitar 3 numeros enteros\n",
    "n1 = int(input(\"Ingrese el primer numero: \"))\n",
    "n2 = int(input(\"Ingrese el segundo numero: \"))\n",
    "n3 = int(input(\"Ingrese el tercer numero: \"))\n",
    "\n",
    "num_mayor = n1\n",
    "\n",
    "if n2 > num_mayor:\n",
    "    num_mayor = n2\n",
    "\n",
    "if n3 > num_mayor: \n",
    "    num_mayor = n3\n",
    "\n",
    "print(f'El numero mayor es: {num_mayor}')"
   ]
  },
  {
   "cell_type": "markdown",
   "metadata": {},
   "source": [
    "# Ejercicio Espatifilo"
   ]
  },
  {
   "cell_type": "code",
   "execution_count": 18,
   "metadata": {},
   "outputs": [
    {
     "name": "stdout",
     "output_type": "stream",
     "text": [
      "No, desayuno\n"
     ]
    }
   ],
   "source": [
    "palabra = input('Ingresa la palabra: ')\n",
    "\n",
    "if palabra ==  'ESPATIFILO':\n",
    " print('El espatifilo es la mejor planta')\n",
    "elif palabra == 'espatifilo':\n",
    " print('No, quiero un gran espatifilo')\n",
    "else: \n",
    " print('No, desayuno')\n"
   ]
  },
  {
   "cell_type": "code",
   "execution_count": null,
   "metadata": {},
   "outputs": [],
   "source": [
    "def calcula_impuesto(ingreso):\n",
    "    if ingreso <= 85528:\n",
    "        impuesto = 0.18 * ingreso - 556.02\n",
    "    else:\n",
    "        impuesto = 14839.02 + 0.32 * (ingreso - 85528)\n",
    "    \n",
    "    impuesto = round(impuesto)\n",
    "    \n",
    "    if impuesto < 0:\n",
    "        impuesto = 0\n",
    "    \n",
    "    return impuesto\n",
    "\n",
    "ingreso = float(input(\"Ingresa tu ingreso: \"))\n",
    "impuesto = calcula_impuesto(ingreso)\n",
    "print(\"El impuesto es: \", impuesto, \"pesos\")\n"
   ]
  }
 ],
 "metadata": {
  "kernelspec": {
   "display_name": "Python 3",
   "language": "python",
   "name": "python3"
  },
  "language_info": {
   "codemirror_mode": {
    "name": "ipython",
    "version": 3
   },
   "file_extension": ".py",
   "mimetype": "text/x-python",
   "name": "python",
   "nbconvert_exporter": "python",
   "pygments_lexer": "ipython3",
   "version": "3.10.8"
  }
 },
 "nbformat": 4,
 "nbformat_minor": 2
}
