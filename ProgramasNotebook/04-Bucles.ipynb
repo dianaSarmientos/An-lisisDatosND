{
 "cells": [
  {
   "cell_type": "code",
   "execution_count": null,
   "metadata": {},
   "outputs": [],
   "source": [
    "secret_number = 666\n",
    "numero = 0\n",
    "termina = False\n",
    "while termina:\n",
    "    numero = int(input('Ingresa un numero: '))\n",
    "    if numero == secret_number:\n",
    "        print('\"¡Bien hecho, muggle! Eres libre ahora.\"')\n",
    "        termina = True\n",
    "    else:\n",
    "        print(\"¡Ja, ja! ¡Estás atrapado en mi bucle!\")"
   ]
  },
  {
   "cell_type": "markdown",
   "metadata": {},
   "source": [
    "# Bucles en tu codigo FOR\n",
    "Otro tipo de bucle disponible en Python proviene de la observación de que a veces es más importante contar los \"giros o vueltas\" del bucle que verificar las condiciones\n",
    "\n",
    "```python\n",
    "for i in range(100):\n",
    "    # do_something()\n",
    "    pass"
   ]
  },
  {
   "cell_type": "code",
   "execution_count": 1,
   "metadata": {},
   "outputs": [],
   "source": [
    "for i in range(100):\n",
    "  #hacer_algo\n",
    "  pass"
   ]
  },
  {
   "cell_type": "code",
   "execution_count": null,
   "metadata": {},
   "outputs": [],
   "source": [
    "if True:\n",
    " # Hacer_algo\n",
    " pass "
   ]
  },
  {
   "cell_type": "code",
   "execution_count": 3,
   "metadata": {},
   "outputs": [
    {
     "name": "stdout",
     "output_type": "stream",
     "text": [
      "El valor de i es:  0\n",
      "El valor de i es:  1\n",
      "El valor de i es:  2\n",
      "El valor de i es:  3\n",
      "El valor de i es:  4\n",
      "El valor de i es:  5\n",
      "El valor de i es:  6\n",
      "El valor de i es:  7\n",
      "El valor de i es:  8\n",
      "El valor de i es:  9\n"
     ]
    }
   ],
   "source": [
    "for i in range(10):\n",
    "  print(f'El valor de i es:  {i}')"
   ]
  },
  {
   "cell_type": "markdown",
   "metadata": {},
   "source": [
    "Nota:\n",
    "\n",
    "El bucle se ha ejecutado diez veces (es el argumento de la función range())\n",
    "El valor de la última variable de control es 9 (no 10, ya que comienza desde 0 , no desde 1)"
   ]
  },
  {
   "cell_type": "code",
   "execution_count": 4,
   "metadata": {},
   "outputs": [
    {
     "name": "stdout",
     "output_type": "stream",
     "text": [
      "El valor del item: 2\n",
      "El valor del item: 3\n",
      "El valor del item: 4\n",
      "El valor del item: 5\n",
      "El valor del item: 6\n",
      "El valor del item: 7\n"
     ]
    }
   ],
   "source": [
    "for item in range(2,8):\n",
    "    print(f'El valor del item: {item}')"
   ]
  },
  {
   "cell_type": "markdown",
   "metadata": {},
   "source": [
    "En este caso, el primer argumento determina el valor inicial (primero) de la variable de control.\n",
    "\n",
    "El último argumento muestra el primer valor que no se asignará a la variable de control.\n",
    "\n",
    "Nota: la función range() solo acepta enteros como argumentos y genera secuencias de enteros.\n",
    "\n",
    "¿Puedes adivinar la output del programa? Ejecútalo para comprobar si ahora también estabas en lo cierto.\n",
    "\n",
    "El primer valor mostrado es 2 (tomado del primer argumento de range()).\n",
    "\n",
    "El último es 7 (aunque el segundo argumento de range() es 8).\n",
    "La función range() también puede aceptar tres argumentos"
   ]
  },
  {
   "cell_type": "code",
   "execution_count": 5,
   "metadata": {},
   "outputs": [
    {
     "name": "stdout",
     "output_type": "stream",
     "text": [
      "El valor de x es: 2\n",
      "El valor de x es: 5\n"
     ]
    }
   ],
   "source": [
    "for x in range(2,8,3):\n",
    "    print(f'El valor de x es: {x}')"
   ]
  },
  {
   "cell_type": "markdown",
   "metadata": {},
   "source": [
    "import time \n",
    "\n",
    "# Escribe un bucle for que cuente hasta cinco.\n",
    "    # Cuerpo del bucle: imprime el número de iteración del bucle y la palabra \"Mississippi\".\n",
    "    # Cuerpo del bucle, emplea : time.sleep(1)\n",
    "\n",
    "# Escribe una función print con el mensaje final."
   ]
  },
  {
   "cell_type": "code",
   "execution_count": null,
   "metadata": {},
   "outputs": [],
   "source": [
    "import time\n",
    "    for i in range(1, 6):\n",
    "        print(f\"Iteración {i}: Mississippi\")\n",
    "        time.sleep(1)\n",
    "\n",
    "def mensaje_final():\n",
    "    print(\"¡Conteo hasta cinco completado!\")\n",
    "\n",
    "contar_hasta_cinco()\n",
    "mensaje_final()"
   ]
  },
  {
   "cell_type": "markdown",
   "metadata": {},
   "source": [
    "# Las sentencias break y continue\n",
    "\n",
    "Estas dos instrucciones son:\n",
    "\n",
    "1. break - sale del bucle inmediatamente, e incondicionalmente termina la operación del bucle; el programa comienza a ejecutar la instrucción más cercana después del cuerpo del bucle.\n",
    "1. continue - se comporta como si el programa hubiera llegado repentinamente al final del cuerpo; el siguiente turno se inicia y la expresión de condición se prueba de inmediato."
   ]
  },
  {
   "cell_type": "code",
   "execution_count": null,
   "metadata": {},
   "outputs": [],
   "source": [
    "for i in  range(1000):\n",
    "    if i == 5:\n",
    "        break;\n",
    "    print(f'El valor de i es: {i}')\n",
    "    "
   ]
  },
  {
   "cell_type": "code",
   "execution_count": 6,
   "metadata": {},
   "outputs": [
    {
     "name": "stdout",
     "output_type": "stream",
     "text": [
      "La instruccion break\n",
      "Dentro del bucle: 1\n",
      "Dentro del bucle: 2\n",
      "Fuera del bucle\n"
     ]
    }
   ],
   "source": [
    "print('La instruccion break')\n",
    "for i in range(1,6):\n",
    "    if i == 3:\n",
    "        break\n",
    "    print(f'Dentro del bucle: {i}') \n",
    "print('Fuera del bucle')"
   ]
  },
  {
   "cell_type": "code",
   "execution_count": 7,
   "metadata": {},
   "outputs": [
    {
     "name": "stdout",
     "output_type": "stream",
     "text": [
      "La instruccion continue\n",
      "Dentro del bucle: 1\n",
      "Dentro del bucle: 2\n",
      "Dentro del bucle: 4\n",
      "Dentro del bucle: 5\n",
      "Fuera del bucle\n"
     ]
    }
   ],
   "source": [
    "print('La instruccion continue')\n",
    "for i in range(1,6):\n",
    "    if i == 3:\n",
    "        continue\n",
    "    print(f'Dentro del bucle: {i}') \n",
    "print('Fuera del bucle')"
   ]
  }
 ],
 "metadata": {
  "kernelspec": {
   "display_name": "Python 3",
   "language": "python",
   "name": "python3"
  },
  "language_info": {
   "codemirror_mode": {
    "name": "ipython",
    "version": 3
   },
   "file_extension": ".py",
   "mimetype": "text/x-python",
   "name": "python",
   "nbconvert_exporter": "python",
   "pygments_lexer": "ipython3",
   "version": "3.10.8"
  }
 },
 "nbformat": 4,
 "nbformat_minor": 2
}
